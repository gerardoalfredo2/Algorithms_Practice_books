{
 "cells": [
  {
   "cell_type": "markdown",
   "metadata": {},
   "source": [
    "#### 1.1.2 Multiplication and division"
   ]
  },
  {
   "cell_type": "code",
   "execution_count": 7,
   "metadata": {},
   "outputs": [],
   "source": [
    "#Input: Two n-bit integers x and y , where y ≥ 0\n",
    "#Output: Their product\n",
    "#Multiplication a la Francais.\n",
    "def multiply(x,y):\n",
    "    if y==0:\n",
    "        print \n",
    "        return 0\n",
    "    \n",
    "    z=multiply(x,y/2)\n",
    "    if y % 2 == 0:\n",
    "        return 2*z\n",
    "    else:\n",
    "        return x +(2*z)"
   ]
  },
  {
   "cell_type": "code",
   "execution_count": 14,
   "metadata": {},
   "outputs": [
    {
     "name": "stdout",
     "output_type": "stream",
     "text": [
      "3238436052916969893639925547502676912792906396226273893710421728438885433087925550271366139222993991922993245829068990582236939798172695629872214399051816158744278788425061781831470523873491461459836282855563921096992119734795083177889653690386552901452960904197740312837334633843688040514981240138336100212923323857495916542\n"
     ]
    }
   ],
   "source": [
    "print(multiply(2,3))"
   ]
  },
  {
   "cell_type": "code",
   "execution_count": 18,
   "metadata": {},
   "outputs": [],
   "source": [
    "#Input: Two n-bit integers x and y , where y ≥ 1\n",
    "#Output: The quotient and remainder of x divided by y\n",
    "#Division.\n",
    "def divide(x,y):\n",
    "    if x==0: \n",
    "        q=0\n",
    "        r=0\n",
    "        return q,r\n",
    "    q,r=divide(x/2,y)\n",
    "    q=2*q\n",
    "    r=2*r\n",
    "    if x %2!=0: r=r+1\n",
    "    if r>=y: \n",
    "        r=r-y\n",
    "        q=q+1\n",
    "    return q,r"
   ]
  },
  {
   "cell_type": "code",
   "execution_count": 26,
   "metadata": {},
   "outputs": [],
   "source": [
    "l,n=divide(111,10)"
   ]
  },
  {
   "cell_type": "code",
   "execution_count": 27,
   "metadata": {},
   "outputs": [
    {
     "data": {
      "text/plain": [
       "(5181497684667151829823880876004283060468650233962038229936674765502216692940680880434185822756790387076789193326510384931579103677076313007795543038482905853990846061480098850930352838197586338335738052568902273755187391575672133084623445904618484642324737446716384500539735414149900864823969984221337760340677318171993466470,\n",
       " 3)"
      ]
     },
     "execution_count": 27,
     "metadata": {},
     "output_type": "execute_result"
    }
   ],
   "source": [
    "l,n"
   ]
  },
  {
   "cell_type": "code",
   "execution_count": null,
   "metadata": {},
   "outputs": [],
   "source": []
  }
 ],
 "metadata": {
  "kernelspec": {
   "display_name": "Python 3",
   "language": "python",
   "name": "python3"
  },
  "language_info": {
   "codemirror_mode": {
    "name": "ipython",
    "version": 3
   },
   "file_extension": ".py",
   "mimetype": "text/x-python",
   "name": "python",
   "nbconvert_exporter": "python",
   "pygments_lexer": "ipython3",
   "version": "3.6.5"
  }
 },
 "nbformat": 4,
 "nbformat_minor": 2
}
