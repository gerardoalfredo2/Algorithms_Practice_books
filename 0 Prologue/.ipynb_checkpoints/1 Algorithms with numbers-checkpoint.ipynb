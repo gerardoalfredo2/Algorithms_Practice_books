{
 "cells": [
  {
   "cell_type": "markdown",
   "metadata": {},
   "source": [
    "#### 1.1.2 Multiplication and division"
   ]
  },
  {
   "cell_type": "code",
   "execution_count": 7,
   "metadata": {},
   "outputs": [],
   "source": [
    "#Input: Two n-bit integers x and y , where y ≥ 0\n",
    "#Output: Their product\n",
    "#Multiplication a la Francais.\n",
    "def multiply(x,y):\n",
    "    if y==0:\n",
    "        print \n",
    "        return 0\n",
    "    \n",
    "    z=multiply(x,y/2)\n",
    "    if y % 2 == 0:\n",
    "        return 2*z\n",
    "    else:\n",
    "        return x +(2*z)"
   ]
  },
  {
   "cell_type": "code",
   "execution_count": 14,
   "metadata": {},
   "outputs": [
    {
     "name": "stdout",
     "output_type": "stream",
     "text": [
      "3238436052916969893639925547502676912792906396226273893710421728438885433087925550271366139222993991922993245829068990582236939798172695629872214399051816158744278788425061781831470523873491461459836282855563921096992119734795083177889653690386552901452960904197740312837334633843688040514981240138336100212923323857495916542\n"
     ]
    }
   ],
   "source": [
    "print(multiply(2,3))"
   ]
  },
  {
   "cell_type": "code",
   "execution_count": 18,
   "metadata": {},
   "outputs": [],
   "source": [
    "#Input: Two n-bit integers x and y , where y ≥ 1\n",
    "#Output: The quotient and remainder of x divided by y\n",
    "#Division.\n",
    "def divide(x,y):\n",
    "    if x==0: \n",
    "        q=0\n",
    "        r=0\n",
    "        return q,r\n",
    "    q,r=divide(x/2,y)\n",
    "    q=2*q\n",
    "    r=2*r\n",
    "    if x %2!=0: r=r+1\n",
    "    if r>=y: \n",
    "        r=r-y\n",
    "        q=q+1\n",
    "    return q,r"
   ]
  },
  {
   "cell_type": "code",
   "execution_count": 23,
   "metadata": {},
   "outputs": [],
   "source": [
    "l=multiply(111,10)"
   ]
  },
  {
   "cell_type": "code",
   "execution_count": 24,
   "metadata": {},
   "outputs": [
    {
     "data": {
      "text/plain": [
       "359466401873783658194031735772797137320012609981116402201856811856716283072759736080121641453752333103452250287026657954628300317597169214915815798294751593620614945515181857783293228149957552222041827396967595241766125290562254232745751559632907372061278660365949174724944144356649372497162917655355307123634488948182046736162"
      ]
     },
     "execution_count": 24,
     "metadata": {},
     "output_type": "execute_result"
    }
   ],
   "source": [
    "l"
   ]
  },
  {
   "cell_type": "code",
   "execution_count": null,
   "metadata": {},
   "outputs": [],
   "source": []
  }
 ],
 "metadata": {
  "kernelspec": {
   "display_name": "Python 3",
   "language": "python",
   "name": "python3"
  },
  "language_info": {
   "codemirror_mode": {
    "name": "ipython",
    "version": 3
   },
   "file_extension": ".py",
   "mimetype": "text/x-python",
   "name": "python",
   "nbconvert_exporter": "python",
   "pygments_lexer": "ipython3",
   "version": "3.6.5"
  }
 },
 "nbformat": 4,
 "nbformat_minor": 2
}
